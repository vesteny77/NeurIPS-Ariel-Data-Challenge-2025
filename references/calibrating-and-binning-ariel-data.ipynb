{
 "cells": [
  {
   "cell_type": "markdown",
   "id": "fa93932a",
   "metadata": {
    "papermill": {
     "duration": 0.007914,
     "end_time": "2025-06-27T09:21:07.264042",
     "exception": false,
     "start_time": "2025-06-27T09:21:07.256128",
     "status": "completed"
    },
    "tags": []
   },
   "source": [
    "# Calibrating and Binning Ariel Data"
   ]
  },
  {
   "cell_type": "markdown",
   "id": "b86c1a78",
   "metadata": {
    "papermill": {
     "duration": 0.007108,
     "end_time": "2025-06-27T09:21:07.279291",
     "exception": false,
     "start_time": "2025-06-27T09:21:07.272183",
     "status": "completed"
    },
    "tags": []
   },
   "source": [
    "**UPDATE**\n",
    "N/A"
   ]
  },
  {
   "cell_type": "markdown",
   "id": "f419295e",
   "metadata": {
    "papermill": {
     "duration": 0.006087,
     "end_time": "2025-06-27T09:21:07.292522",
     "exception": false,
     "start_time": "2025-06-27T09:21:07.286435",
     "status": "completed"
    },
    "tags": []
   },
   "source": [
    "# PLEAES READ BEFORE YOU PROCEED\n",
    "1. within the wall time. From experience, GPU acceleration, Parallelisation and other coding language will help. We encourage the kaggle community to share their calibration scripts to help speed up this process.  \n",
    "\n",
    "2. We have also only processed the 1st observation of every planet, not their repeats, so you might want to also take that into account. \n",
    "\n",
    "3. While these steps help reduce noise and data size, they may not be the most effective approach for achieving the optimal model for this challenge. Participants are encouraged to explore different combinations of these steps, or other approaches, to clean up the data."
   ]
  },
  {
   "cell_type": "markdown",
   "id": "eb966e7e",
   "metadata": {
    "papermill": {
     "duration": 0.006124,
     "end_time": "2025-06-27T09:21:07.304982",
     "exception": false,
     "start_time": "2025-06-27T09:21:07.298858",
     "status": "completed"
    },
    "tags": []
   },
   "source": [
    "This notebook follows largely from the [ADC2024 edition](https://www.kaggle.com/code/gordonyip/update-calibrating-and-binning-astronomical-data), with minor updates to reflect changes made. \n",
    "\n",
    "Data reduction is crucial in astronomical observations. This notebook outlines essential calibration steps typically employed by astronomers to mitigate noise in data. We want to emphasis that these steps are NOT laws or rules you must take. Take them as a general recipe where you can always add/delete things. \n",
    "\n",
    "Key points:\n",
    "\n",
    "- The notebook guides participants through pre-processing data and saving it in a more convenient, lighter format.\n",
    "- Similar to last year, if you plan to use the baseline models (which will be released soon), you must run this notebook first before training.\n",
    "\n",
    "\n"
   ]
  },
  {
   "cell_type": "markdown",
   "id": "9bd36278",
   "metadata": {
    "papermill": {
     "duration": 0.006619,
     "end_time": "2025-06-27T09:21:07.317886",
     "exception": false,
     "start_time": "2025-06-27T09:21:07.311267",
     "status": "completed"
    },
    "tags": []
   },
   "source": [
    "\n",
    "**Acknowledgement**: This notebook is modified by Gordon Yip from its 2024 version prepared by Angèle Syty and Virginie Batista (IAP), with support from Andrea Bocchieri (Sapienza Università di Roma\n",
    "), Orphée Faucoz (CNES), Lorenzo V. Mugnai (Cardiff University & UCL), Tara Tahseen (UCL) and the Kaggle community."
   ]
  },
  {
   "cell_type": "markdown",
   "id": "e8853af2",
   "metadata": {
    "papermill": {
     "duration": 0.00627,
     "end_time": "2025-06-27T09:21:07.330604",
     "exception": false,
     "start_time": "2025-06-27T09:21:07.324334",
     "status": "completed"
    },
    "tags": []
   },
   "source": [
    "Last modified: 27th Jun 2025. "
   ]
  },
  {
   "cell_type": "code",
   "execution_count": 1,
   "id": "411d9b07",
   "metadata": {
    "execution": {
     "iopub.execute_input": "2025-06-27T09:21:07.344777Z",
     "iopub.status.busy": "2025-06-27T09:21:07.344380Z",
     "iopub.status.idle": "2025-06-27T09:21:10.287146Z",
     "shell.execute_reply": "2025-06-27T09:21:10.286189Z"
    },
    "papermill": {
     "duration": 2.952277,
     "end_time": "2025-06-27T09:21:10.289170",
     "exception": false,
     "start_time": "2025-06-27T09:21:07.336893",
     "status": "completed"
    },
    "tags": []
   },
   "outputs": [],
   "source": [
    "import numpy as np\n",
    "import pandas as pd\n",
    "import itertools\n",
    "import os\n",
    "import glob \n",
    "from astropy.stats import sigma_clip\n",
    "\n",
    "from tqdm import tqdm"
   ]
  },
  {
   "cell_type": "markdown",
   "id": "d629a7da",
   "metadata": {
    "papermill": {
     "duration": 0.006726,
     "end_time": "2025-06-27T09:21:10.302394",
     "exception": false,
     "start_time": "2025-06-27T09:21:10.295668",
     "status": "completed"
    },
    "tags": []
   },
   "source": [
    "Below, we define the corrections we want to apply, the size of the data chunks and the different path used to import data and save the light ones. "
   ]
  },
  {
   "cell_type": "code",
   "execution_count": 2,
   "id": "4681d494",
   "metadata": {
    "execution": {
     "iopub.execute_input": "2025-06-27T09:21:10.317606Z",
     "iopub.status.busy": "2025-06-27T09:21:10.317160Z",
     "iopub.status.idle": "2025-06-27T09:21:10.321675Z",
     "shell.execute_reply": "2025-06-27T09:21:10.320766Z"
    },
    "papermill": {
     "duration": 0.014212,
     "end_time": "2025-06-27T09:21:10.323224",
     "exception": false,
     "start_time": "2025-06-27T09:21:10.309012",
     "status": "completed"
    },
    "tags": []
   },
   "outputs": [],
   "source": [
    "\n",
    "path_folder = '/kaggle/input/ariel-data-challenge-2025/' # path to the folder containing the data\n",
    "path_out = '/kaggle/tmp/data_light_raw/' # path to the folder to store the light data\n",
    "output_dir = '/kaggle/tmp/data_light_raw/' # path for the output directory"
   ]
  },
  {
   "cell_type": "markdown",
   "id": "8013660c",
   "metadata": {
    "papermill": {
     "duration": 0.006023,
     "end_time": "2025-06-27T09:21:10.335885",
     "exception": false,
     "start_time": "2025-06-27T09:21:10.329862",
     "status": "completed"
    },
    "tags": []
   },
   "source": [
    "If the *path_out* folder doesn't exist yet, it is created. "
   ]
  },
  {
   "cell_type": "code",
   "execution_count": 3,
   "id": "4e96701b",
   "metadata": {
    "execution": {
     "iopub.execute_input": "2025-06-27T09:21:10.350841Z",
     "iopub.status.busy": "2025-06-27T09:21:10.350536Z",
     "iopub.status.idle": "2025-06-27T09:21:10.356633Z",
     "shell.execute_reply": "2025-06-27T09:21:10.355826Z"
    },
    "papermill": {
     "duration": 0.015572,
     "end_time": "2025-06-27T09:21:10.358663",
     "exception": false,
     "start_time": "2025-06-27T09:21:10.343091",
     "status": "completed"
    },
    "tags": []
   },
   "outputs": [
    {
     "name": "stdout",
     "output_type": "stream",
     "text": [
      "Directory /kaggle/tmp/data_light_raw/ created.\n"
     ]
    }
   ],
   "source": [
    "if not os.path.exists(path_out):\n",
    "    os.makedirs(path_out)\n",
    "    print(f\"Directory {path_out} created.\")\n",
    "else:\n",
    "    print(f\"Directory {path_out} already exists.\")\n"
   ]
  },
  {
   "cell_type": "markdown",
   "id": "05068f0e",
   "metadata": {
    "papermill": {
     "duration": 0.008576,
     "end_time": "2025-06-27T09:21:10.374643",
     "exception": false,
     "start_time": "2025-06-27T09:21:10.366067",
     "status": "completed"
    },
    "tags": []
   },
   "source": [
    "**Data import:**\n",
    "\n",
    " The files are imported by chunks of size 'CHUNK_SIZE' to avoid exceeding the memory capacity. "
   ]
  },
  {
   "cell_type": "code",
   "execution_count": 4,
   "id": "bd5af670",
   "metadata": {
    "execution": {
     "iopub.execute_input": "2025-06-27T09:21:10.391879Z",
     "iopub.status.busy": "2025-06-27T09:21:10.391450Z",
     "iopub.status.idle": "2025-06-27T09:21:10.396573Z",
     "shell.execute_reply": "2025-06-27T09:21:10.395196Z"
    },
    "papermill": {
     "duration": 0.015019,
     "end_time": "2025-06-27T09:21:10.398087",
     "exception": false,
     "start_time": "2025-06-27T09:21:10.383068",
     "status": "completed"
    },
    "tags": []
   },
   "outputs": [],
   "source": [
    "CHUNKS_SIZE = 1"
   ]
  },
  {
   "cell_type": "markdown",
   "id": "574ca362",
   "metadata": {
    "execution": {
     "iopub.execute_input": "2024-08-02T14:38:41.270597Z",
     "iopub.status.busy": "2024-08-02T14:38:41.270117Z",
     "iopub.status.idle": "2024-08-02T14:38:41.303633Z",
     "shell.execute_reply": "2024-08-02T14:38:41.30235Z",
     "shell.execute_reply.started": "2024-08-02T14:38:41.270558Z"
    },
    "papermill": {
     "duration": 0.008557,
     "end_time": "2025-06-27T09:21:10.418864",
     "exception": false,
     "start_time": "2025-06-27T09:21:10.410307",
     "status": "completed"
    },
    "tags": []
   },
   "source": [
    "## Step 1: Analog-to-Digital Conversion\n",
    "\n",
    "The Analog-to-Digital Conversion (adc) is performed by the detector to convert the pixel voltage into an integer number. We revert this operation by using the gain and offset for the calibration files 'train_adc_info.csv'.\n"
   ]
  },
  {
   "cell_type": "code",
   "execution_count": 5,
   "id": "5ed679da",
   "metadata": {
    "execution": {
     "iopub.execute_input": "2025-06-27T09:21:10.434087Z",
     "iopub.status.busy": "2025-06-27T09:21:10.433794Z",
     "iopub.status.idle": "2025-06-27T09:21:10.439933Z",
     "shell.execute_reply": "2025-06-27T09:21:10.438909Z"
    },
    "papermill": {
     "duration": 0.016467,
     "end_time": "2025-06-27T09:21:10.442198",
     "exception": false,
     "start_time": "2025-06-27T09:21:10.425731",
     "status": "completed"
    },
    "tags": []
   },
   "outputs": [],
   "source": [
    "def ADC_convert(signal, gain=0.4369, offset=-1000):\n",
    "    \"\"\"The Analog-to-Digital Conversion (adc) is performed by the detector to convert\n",
    "    the pixel voltage into an integer number. Since we are using the same conversion number \n",
    "    this year, we have simply hard-coded it inside. \"\"\"\n",
    "    signal = signal.astype(np.float64)\n",
    "    signal /= gain\n",
    "    signal += offset\n",
    "    return signal"
   ]
  },
  {
   "cell_type": "markdown",
   "id": "94700fab",
   "metadata": {
    "papermill": {
     "duration": 0.007158,
     "end_time": "2025-06-27T09:21:10.455900",
     "exception": false,
     "start_time": "2025-06-27T09:21:10.448742",
     "status": "completed"
    },
    "tags": []
   },
   "source": [
    "## Step 2: Mask hot/dead pixel\n",
    "The dead pixels map is a map of the pixels that do not respond to light and, thus, can’t be accounted for any calculation. In all these frames the dead pixels are masked using python masked arrays. The bad pixels are thus masked but left uncorrected. Some methods can be used to correct bad-pixels but this task, if needed, is left to the participants."
   ]
  },
  {
   "cell_type": "code",
   "execution_count": 6,
   "id": "a60d5eaa",
   "metadata": {
    "execution": {
     "iopub.execute_input": "2025-06-27T09:21:10.472644Z",
     "iopub.status.busy": "2025-06-27T09:21:10.471675Z",
     "iopub.status.idle": "2025-06-27T09:21:10.477947Z",
     "shell.execute_reply": "2025-06-27T09:21:10.477023Z"
    },
    "papermill": {
     "duration": 0.016222,
     "end_time": "2025-06-27T09:21:10.480431",
     "exception": false,
     "start_time": "2025-06-27T09:21:10.464209",
     "status": "completed"
    },
    "tags": []
   },
   "outputs": [],
   "source": [
    "def mask_hot_dead(signal, dead, dark):\n",
    "    hot = sigma_clip(\n",
    "        dark, sigma=5, maxiters=5\n",
    "    ).mask\n",
    "    hot = np.tile(hot, (signal.shape[0], 1, 1))\n",
    "    dead = np.tile(dead, (signal.shape[0], 1, 1))\n",
    "    signal = np.ma.masked_where(dead, signal)\n",
    "    signal = np.ma.masked_where(hot, signal)\n",
    "    return signal"
   ]
  },
  {
   "cell_type": "markdown",
   "id": "5044d6bb",
   "metadata": {
    "papermill": {
     "duration": 0.006123,
     "end_time": "2025-06-27T09:21:10.493114",
     "exception": false,
     "start_time": "2025-06-27T09:21:10.486991",
     "status": "completed"
    },
    "tags": []
   },
   "source": [
    "## Step 2: linearity Correction"
   ]
  },
  {
   "cell_type": "markdown",
   "id": "d04260d8",
   "metadata": {
    "papermill": {
     "duration": 0.006158,
     "end_time": "2025-06-27T09:21:10.505839",
     "exception": false,
     "start_time": "2025-06-27T09:21:10.499681",
     "status": "completed"
    },
    "tags": []
   },
   "source": [
    "\n",
    "\n",
    "**Non-linearity of pixels' response:**\n",
    "\n",
    "The non-linearity of the pixels’ response can be explained as capacitive leakage on the readout electronics of each pixel during the integration time. The number of electrons in the well is proportional to the number of photons that hit the pixel, with a quantum efficiency coefficient. However, the response of the pixel is not linear with the number of electrons in the well. This effect can be described by a polynomial function of the number of electrons actually in the well. The data is provided with calibration files linear_corr.parquet that are the coefficients of the inverse polynomial function and can be used to correct this non-linearity effect.\n",
    "\n"
   ]
  },
  {
   "cell_type": "code",
   "execution_count": 7,
   "id": "1e5e38da",
   "metadata": {
    "execution": {
     "iopub.execute_input": "2025-06-27T09:21:10.522165Z",
     "iopub.status.busy": "2025-06-27T09:21:10.521278Z",
     "iopub.status.idle": "2025-06-27T09:21:10.528107Z",
     "shell.execute_reply": "2025-06-27T09:21:10.526854Z"
    },
    "papermill": {
     "duration": 0.016159,
     "end_time": "2025-06-27T09:21:10.530007",
     "exception": false,
     "start_time": "2025-06-27T09:21:10.513848",
     "status": "completed"
    },
    "tags": []
   },
   "outputs": [],
   "source": [
    "def apply_linear_corr(linear_corr,clean_signal):\n",
    "    linear_corr = np.flip(linear_corr, axis=0)\n",
    "    for x, y in itertools.product(\n",
    "                range(clean_signal.shape[1]), range(clean_signal.shape[2])\n",
    "            ):\n",
    "        poli = np.poly1d(linear_corr[:, x, y])\n",
    "        clean_signal[:, x, y] = poli(clean_signal[:, x, y])\n",
    "    return clean_signal\n",
    "    "
   ]
  },
  {
   "cell_type": "markdown",
   "id": "eeca30a1",
   "metadata": {
    "papermill": {
     "duration": 0.006676,
     "end_time": "2025-06-27T09:21:10.544667",
     "exception": false,
     "start_time": "2025-06-27T09:21:10.537991",
     "status": "completed"
    },
    "tags": []
   },
   "source": [
    "## Step 3: dark current subtraction\n",
    "\n",
    "The data provided include calibration for dark current estimation, which can be used to pre-process the observations. Dark current represents a constant signal that accumulates in each pixel during the integration time, independent of the incoming light. To obtain the corrected image, the following conventional approach is applied: The data provided include calibration files such as dark frames or dead pixels' maps. They can be used to pre-process the observations. The dark frame is a map of the detector response to a very short exposure time, to correct for the dark current of the detector.\n",
    "$$\\text{image - dark} \\times \\Delta t $$ \n",
    "The corrected image is conventionally obtained via the following: where the dark current map is first corrected for the dead pixel."
   ]
  },
  {
   "cell_type": "code",
   "execution_count": 8,
   "id": "0a2691da",
   "metadata": {
    "execution": {
     "iopub.execute_input": "2025-06-27T09:21:10.558668Z",
     "iopub.status.busy": "2025-06-27T09:21:10.558323Z",
     "iopub.status.idle": "2025-06-27T09:21:10.563965Z",
     "shell.execute_reply": "2025-06-27T09:21:10.562958Z"
    },
    "papermill": {
     "duration": 0.014614,
     "end_time": "2025-06-27T09:21:10.565586",
     "exception": false,
     "start_time": "2025-06-27T09:21:10.550972",
     "status": "completed"
    },
    "tags": []
   },
   "outputs": [],
   "source": [
    "def clean_dark(signal, dead, dark, dt):\n",
    "\n",
    "    dark = np.ma.masked_where(dead, dark)\n",
    "    dark = np.tile(dark, (signal.shape[0], 1, 1))\n",
    "\n",
    "    signal -= dark* dt[:, np.newaxis, np.newaxis]\n",
    "    return signal\n"
   ]
  },
  {
   "cell_type": "markdown",
   "id": "0c238ab2",
   "metadata": {
    "papermill": {
     "duration": 0.008358,
     "end_time": "2025-06-27T09:21:10.580736",
     "exception": false,
     "start_time": "2025-06-27T09:21:10.572378",
     "status": "completed"
    },
    "tags": []
   },
   "source": [
    "## Step 4: Get Correlated Double Sampling (CDS)"
   ]
  },
  {
   "cell_type": "markdown",
   "id": "00170377",
   "metadata": {
    "papermill": {
     "duration": 0.006202,
     "end_time": "2025-06-27T09:21:10.593396",
     "exception": false,
     "start_time": "2025-06-27T09:21:10.587194",
     "status": "completed"
    },
    "tags": []
   },
   "source": [
    "The science frames are alternating between the start of the exposure and the end of the exposure. The lecture scheme is a ramp with a double sampling, called Correlated Double Sampling (CDS), the detector is read twice, once at the start of the exposure and once at the end of the exposure. The final CDS is the difference (End of exposure) - (Start of exposure)."
   ]
  },
  {
   "cell_type": "code",
   "execution_count": 9,
   "id": "2fc65de8",
   "metadata": {
    "execution": {
     "iopub.execute_input": "2025-06-27T09:21:10.607261Z",
     "iopub.status.busy": "2025-06-27T09:21:10.606930Z",
     "iopub.status.idle": "2025-06-27T09:21:10.611366Z",
     "shell.execute_reply": "2025-06-27T09:21:10.610556Z"
    },
    "papermill": {
     "duration": 0.013227,
     "end_time": "2025-06-27T09:21:10.612856",
     "exception": false,
     "start_time": "2025-06-27T09:21:10.599629",
     "status": "completed"
    },
    "tags": []
   },
   "outputs": [],
   "source": [
    "def get_cds(signal):\n",
    "    cds = signal[:,1::2,:,:] - signal[:,::2,:,:]\n",
    "    return cds"
   ]
  },
  {
   "cell_type": "markdown",
   "id": "d29f7004",
   "metadata": {
    "papermill": {
     "duration": 0.007052,
     "end_time": "2025-06-27T09:21:10.626718",
     "exception": false,
     "start_time": "2025-06-27T09:21:10.619666",
     "status": "completed"
    },
    "tags": []
   },
   "source": [
    "## Step 5 (Optional): Time Binning\n",
    "This step is performed mianly to save space. Time series observations are binned together at specified frequency. \n",
    "\n"
   ]
  },
  {
   "cell_type": "code",
   "execution_count": 10,
   "id": "1a1e2bb6",
   "metadata": {
    "execution": {
     "iopub.execute_input": "2025-06-27T09:21:10.643120Z",
     "iopub.status.busy": "2025-06-27T09:21:10.642738Z",
     "iopub.status.idle": "2025-06-27T09:21:10.649553Z",
     "shell.execute_reply": "2025-06-27T09:21:10.648575Z"
    },
    "papermill": {
     "duration": 0.017323,
     "end_time": "2025-06-27T09:21:10.651123",
     "exception": false,
     "start_time": "2025-06-27T09:21:10.633800",
     "status": "completed"
    },
    "tags": []
   },
   "outputs": [],
   "source": [
    "def bin_obs(cds_signal,binning):\n",
    "    cds_transposed = cds_signal.transpose(0,1,3,2)\n",
    "    cds_binned = np.zeros((cds_transposed.shape[0], cds_transposed.shape[1]//binning, cds_transposed.shape[2], cds_transposed.shape[3]))\n",
    "    for i in range(cds_transposed.shape[1]//binning):\n",
    "        cds_binned[:,i,:,:] = np.sum(cds_transposed[:,i*binning:(i+1)*binning,:,:], axis=1)\n",
    "    return cds_binned"
   ]
  },
  {
   "cell_type": "markdown",
   "id": "b50a55c1",
   "metadata": {
    "papermill": {
     "duration": 0.006096,
     "end_time": "2025-06-27T09:21:10.663813",
     "exception": false,
     "start_time": "2025-06-27T09:21:10.657717",
     "status": "completed"
    },
    "tags": []
   },
   "source": [
    "## Step 6: Flat Field Correction\n"
   ]
  },
  {
   "cell_type": "markdown",
   "id": "f3cdcdab",
   "metadata": {
    "papermill": {
     "duration": 0.087586,
     "end_time": "2025-06-27T09:21:10.757586",
     "exception": false,
     "start_time": "2025-06-27T09:21:10.670000",
     "status": "completed"
    },
    "tags": []
   },
   "source": [
    "The flat field is a map of the detector response to uniform illumination, to correct for the pixel-to-pixel variations of the detector, for example the different quantum efficiencies of each pixel."
   ]
  },
  {
   "cell_type": "code",
   "execution_count": 11,
   "id": "ce25d5a8",
   "metadata": {
    "execution": {
     "iopub.execute_input": "2025-06-27T09:21:10.774457Z",
     "iopub.status.busy": "2025-06-27T09:21:10.774119Z",
     "iopub.status.idle": "2025-06-27T09:21:10.780389Z",
     "shell.execute_reply": "2025-06-27T09:21:10.779339Z"
    },
    "papermill": {
     "duration": 0.015993,
     "end_time": "2025-06-27T09:21:10.782551",
     "exception": false,
     "start_time": "2025-06-27T09:21:10.766558",
     "status": "completed"
    },
    "tags": []
   },
   "outputs": [],
   "source": [
    "def correct_flat_field(flat,dead, signal):\n",
    "    flat = flat.transpose(1, 0)\n",
    "    dead = dead.transpose(1, 0)\n",
    "    flat = np.ma.masked_where(dead, flat)\n",
    "    flat = np.tile(flat, (signal.shape[0], 1, 1))\n",
    "    signal = signal / flat\n",
    "    return signal"
   ]
  },
  {
   "cell_type": "markdown",
   "id": "8b69e2ab",
   "metadata": {
    "papermill": {
     "duration": 0.007051,
     "end_time": "2025-06-27T09:21:10.796426",
     "exception": false,
     "start_time": "2025-06-27T09:21:10.789375",
     "status": "completed"
    },
    "tags": []
   },
   "source": [
    "# Calibrating all training data"
   ]
  },
  {
   "cell_type": "markdown",
   "id": "0591dfb5",
   "metadata": {
    "papermill": {
     "duration": 0.006144,
     "end_time": "2025-06-27T09:21:10.808966",
     "exception": false,
     "start_time": "2025-06-27T09:21:10.802822",
     "status": "completed"
    },
    "tags": []
   },
   "source": [
    "you can choose to correct the non-linearity of the pixels' response, to apply flat field, dark and dead map or to leave the data unchanged. The observations are binned in time by group of 30 frames for AIRS and 360 frames for FGS1, to obtain a lighter data-cube, easier to use. The images are cut along the wavelength axis between pixels 39 and 321, so that the 282 pixels left in the wavelength dimension match the last 282 targets' points, from AIRS. The 283rd targets' point is the one for FGS1 that will be added later on. "
   ]
  },
  {
   "cell_type": "code",
   "execution_count": 12,
   "id": "30a43913",
   "metadata": {
    "execution": {
     "iopub.execute_input": "2025-06-27T09:21:10.823522Z",
     "iopub.status.busy": "2025-06-27T09:21:10.823190Z",
     "iopub.status.idle": "2025-06-27T09:21:10.829603Z",
     "shell.execute_reply": "2025-06-27T09:21:10.828549Z"
    },
    "papermill": {
     "duration": 0.016008,
     "end_time": "2025-06-27T09:21:10.831406",
     "exception": false,
     "start_time": "2025-06-27T09:21:10.815398",
     "status": "completed"
    },
    "tags": []
   },
   "outputs": [],
   "source": [
    "## we will start by getting the index of the training data:\n",
    "def get_index(files,CHUNKS_SIZE ):\n",
    "    index = []\n",
    "    for file in files:\n",
    "        file_name = file.split('/')[-1]\n",
    "        if file_name.split('_')[0] == 'AIRS-CH0' and file_name.split('_')[1] == 'signal' and file_name.split('_')[2] == '0.parquet':\n",
    "            file_index = os.path.basename(os.path.dirname(file))\n",
    "            index.append(int(file_index))\n",
    "    index = np.array(index)\n",
    "    index = np.sort(index) \n",
    "    # credit to DennisSakva\n",
    "    index=np.array_split(index, len(index)//CHUNKS_SIZE)\n",
    "    \n",
    "    return index"
   ]
  },
  {
   "cell_type": "code",
   "execution_count": 13,
   "id": "8304e4c6",
   "metadata": {
    "execution": {
     "iopub.execute_input": "2025-06-27T09:21:10.846508Z",
     "iopub.status.busy": "2025-06-27T09:21:10.846159Z",
     "iopub.status.idle": "2025-06-27T09:39:52.630271Z",
     "shell.execute_reply": "2025-06-27T09:39:52.628698Z"
    },
    "papermill": {
     "duration": 1121.801506,
     "end_time": "2025-06-27T09:39:52.639506",
     "exception": false,
     "start_time": "2025-06-27T09:21:10.838000",
     "status": "completed"
    },
    "tags": []
   },
   "outputs": [
    {
     "name": "stderr",
     "output_type": "stream",
     "text": [
      "100%|██████████| 62/62 [18:35<00:00, 18.00s/it]\n"
     ]
    }
   ],
   "source": [
    "files = glob.glob(os.path.join(path_folder + 'train/', '*/*'))\n",
    "\n",
    "index = get_index(files[:300],CHUNKS_SIZE)  ## 22 is hardcoded here but please feel free to remove it if you want to do it for the entire dataset\n",
    "\n",
    "axis_info = pd.read_parquet(os.path.join(path_folder,'axis_info.parquet'))\n",
    "DO_MASK = True\n",
    "DO_THE_NL_CORR = False\n",
    "DO_DARK = True\n",
    "DO_FLAT = True\n",
    "TIME_BINNING = True\n",
    "\n",
    "cut_inf, cut_sup = 39, 321\n",
    "l = cut_sup - cut_inf\n",
    "\n",
    "for n, index_chunk in enumerate(tqdm(index)):\n",
    "    AIRS_CH0_clean = np.zeros((CHUNKS_SIZE, 11250, 32, l))\n",
    "    FGS1_clean = np.zeros((CHUNKS_SIZE, 135000, 32, 32))\n",
    "    \n",
    "    for i in range (CHUNKS_SIZE) : \n",
    "        df = pd.read_parquet(os.path.join(path_folder,f'train/{index_chunk[i]}/AIRS-CH0_signal_0.parquet'))\n",
    "        signal = df.values.astype(np.float64).reshape((df.shape[0], 32, 356))\n",
    "\n",
    "        signal = ADC_convert(signal,)\n",
    "        dt_airs = axis_info['AIRS-CH0-integration_time'].dropna().values\n",
    "        dt_airs[1::2] += 0.1\n",
    "        chopped_signal = signal[:, :, cut_inf:cut_sup]\n",
    "        del signal, df\n",
    "        \n",
    "        # CLEANING THE DATA: AIRS\n",
    "        flat = pd.read_parquet(os.path.join(path_folder,f'train/{index_chunk[i]}/AIRS-CH0_calibration_0/flat.parquet')).values.astype(np.float64).reshape((32, 356))[:, cut_inf:cut_sup]\n",
    "        dark = pd.read_parquet(os.path.join(path_folder,f'train/{index_chunk[i]}/AIRS-CH0_calibration_0/dark.parquet')).values.astype(np.float64).reshape((32, 356))[:, cut_inf:cut_sup]\n",
    "        dead_airs = pd.read_parquet(os.path.join(path_folder,f'train/{index_chunk[i]}/AIRS-CH0_calibration_0/dead.parquet')).values.astype(np.float64).reshape((32, 356))[:, cut_inf:cut_sup]\n",
    "        linear_corr = pd.read_parquet(os.path.join(path_folder,f'train/{index_chunk[i]}/AIRS-CH0_calibration_0/linear_corr.parquet')).values.astype(np.float64).reshape((6, 32, 356))[:, :, cut_inf:cut_sup]\n",
    "        \n",
    "        if DO_MASK:\n",
    "            chopped_signal = mask_hot_dead(chopped_signal, dead_airs, dark)\n",
    "            AIRS_CH0_clean[i] = chopped_signal\n",
    "        else:\n",
    "            AIRS_CH0_clean[i] = chopped_signal\n",
    "            \n",
    "        if DO_THE_NL_CORR: \n",
    "            linear_corr_signal = apply_linear_corr(linear_corr,AIRS_CH0_clean[i])\n",
    "            AIRS_CH0_clean[i,:, :, :] = linear_corr_signal\n",
    "        del linear_corr\n",
    "        \n",
    "        if DO_DARK: \n",
    "            cleaned_signal = clean_dark(AIRS_CH0_clean[i], dead_airs, dark, dt_airs)\n",
    "            AIRS_CH0_clean[i] = cleaned_signal\n",
    "        else: \n",
    "            pass\n",
    "        del dark\n",
    "        \n",
    "        df = pd.read_parquet(os.path.join(path_folder,f'train/{index_chunk[i]}/FGS1_signal_0.parquet'))\n",
    "        fgs_signal = df.values.astype(np.float64).reshape((df.shape[0], 32, 32))\n",
    "\n",
    "        \n",
    "        fgs_signal = ADC_convert(fgs_signal, )\n",
    "        dt_fgs1 = np.ones(len(fgs_signal))*0.1\n",
    "        dt_fgs1[1::2] += 0.1\n",
    "        chopped_FGS1 = fgs_signal\n",
    "        del fgs_signal, df\n",
    "        \n",
    "        # CLEANING THE DATA: FGS1\n",
    "        flat = pd.read_parquet(os.path.join(path_folder,f'train/{index_chunk[i]}/FGS1_calibration_0/flat.parquet')).values.astype(np.float64).reshape((32, 32))\n",
    "        dark = pd.read_parquet(os.path.join(path_folder,f'train/{index_chunk[i]}/FGS1_calibration_0/dark.parquet')).values.astype(np.float64).reshape((32, 32))\n",
    "        dead_fgs1 = pd.read_parquet(os.path.join(path_folder,f'train/{index_chunk[i]}/FGS1_calibration_0/dead.parquet')).values.astype(np.float64).reshape((32, 32))\n",
    "        linear_corr = pd.read_parquet(os.path.join(path_folder,f'train/{index_chunk[i]}/FGS1_calibration_0/linear_corr.parquet')).values.astype(np.float64).reshape((6, 32, 32))\n",
    "        \n",
    "        if DO_MASK:\n",
    "            chopped_FGS1 = mask_hot_dead(chopped_FGS1, dead_fgs1, dark)\n",
    "            FGS1_clean[i] = chopped_FGS1\n",
    "        else:\n",
    "            FGS1_clean[i] = chopped_FGS1\n",
    "\n",
    "        if DO_THE_NL_CORR: \n",
    "            linear_corr_signal = apply_linear_corr(linear_corr,FGS1_clean[i])\n",
    "            FGS1_clean[i,:, :, :] = linear_corr_signal\n",
    "        del linear_corr\n",
    "        \n",
    "        if DO_DARK: \n",
    "            cleaned_signal = clean_dark(FGS1_clean[i], dead_fgs1, dark,dt_fgs1)\n",
    "            FGS1_clean[i] = cleaned_signal\n",
    "        else: \n",
    "            pass\n",
    "        del dark\n",
    "        \n",
    "    # SAVE DATA AND FREE SPACE\n",
    "    AIRS_cds = get_cds(AIRS_CH0_clean)\n",
    "    FGS1_cds = get_cds(FGS1_clean)\n",
    "    \n",
    "    del AIRS_CH0_clean, FGS1_clean\n",
    "    \n",
    "    ## (Optional) Time Binning to reduce space\n",
    "    if TIME_BINNING:\n",
    "        AIRS_cds_binned = bin_obs(AIRS_cds,binning=30)\n",
    "        FGS1_cds_binned = bin_obs(FGS1_cds,binning=30*12)\n",
    "    else:\n",
    "        AIRS_cds = AIRS_cds.transpose(0,1,3,2) ## this is important to make it consistent for flat fielding, but you can always change it\n",
    "        AIRS_cds_binned = AIRS_cds\n",
    "        FGS1_cds = FGS1_cds.transpose(0,1,3,2)\n",
    "        FGS1_cds_binned = FGS1_cds\n",
    "    \n",
    "    del AIRS_cds, FGS1_cds\n",
    "    \n",
    "    for i in range (CHUNKS_SIZE):\n",
    "        flat_airs = pd.read_parquet(os.path.join(path_folder,f'train/{index_chunk[i]}/AIRS-CH0_calibration_0/flat.parquet')).values.astype(np.float64).reshape((32, 356))[:, cut_inf:cut_sup]\n",
    "        flat_fgs = pd.read_parquet(os.path.join(path_folder,f'train/{index_chunk[i]}/FGS1_calibration_0/flat.parquet')).values.astype(np.float64).reshape((32, 32))\n",
    "        if DO_FLAT:\n",
    "            corrected_AIRS_cds_binned = correct_flat_field(flat_airs,dead_airs, AIRS_cds_binned[i])\n",
    "            AIRS_cds_binned[i] = corrected_AIRS_cds_binned\n",
    "            corrected_FGS1_cds_binned = correct_flat_field(flat_fgs,dead_fgs1, FGS1_cds_binned[i])\n",
    "            FGS1_cds_binned[i] = corrected_FGS1_cds_binned\n",
    "        else:\n",
    "            pass\n",
    "\n",
    "    ## save data\n",
    "    np.save(os.path.join(path_out, 'AIRS_clean_train_{}.npy'.format(n)), AIRS_cds_binned)\n",
    "    np.save(os.path.join(path_out, 'FGS1_train_{}.npy'.format(n)), FGS1_cds_binned)\n",
    "    del AIRS_cds_binned\n",
    "    del FGS1_cds_binned"
   ]
  },
  {
   "cell_type": "markdown",
   "id": "e53f4e7a",
   "metadata": {
    "papermill": {
     "duration": 0.010428,
     "end_time": "2025-06-27T09:39:52.660596",
     "exception": false,
     "start_time": "2025-06-27T09:39:52.650168",
     "status": "completed"
    },
    "tags": []
   },
   "source": [
    "Once all the chunks are saved, we concatenate them back in a single dataset. This step is simply to save HDD space, modify it as you wish. "
   ]
  },
  {
   "cell_type": "code",
   "execution_count": 14,
   "id": "b8bb9748",
   "metadata": {
    "execution": {
     "iopub.execute_input": "2025-06-27T09:39:52.685466Z",
     "iopub.status.busy": "2025-06-27T09:39:52.685026Z",
     "iopub.status.idle": "2025-06-27T09:39:54.992112Z",
     "shell.execute_reply": "2025-06-27T09:39:54.990660Z"
    },
    "papermill": {
     "duration": 2.322702,
     "end_time": "2025-06-27T09:39:54.994053",
     "exception": false,
     "start_time": "2025-06-27T09:39:52.671351",
     "status": "completed"
    },
    "tags": []
   },
   "outputs": [],
   "source": [
    "def load_data (file, chunk_size, nb_files) : \n",
    "    data0 = np.load(file + '_0.npy')\n",
    "    data_all = np.zeros((nb_files*chunk_size, data0.shape[1], data0.shape[2], data0.shape[3]))\n",
    "    data_all[:chunk_size] = data0\n",
    "    for i in range (1, nb_files) : \n",
    "        data_all[i*chunk_size:(i+1)*chunk_size] = np.load(file + '_{}.npy'.format(i))\n",
    "    return data_all \n",
    "\n",
    "data_train = load_data(path_out + 'AIRS_clean_train', CHUNKS_SIZE, len(index)) \n",
    "data_train_FGS = load_data(path_out + 'FGS1_train', CHUNKS_SIZE, len(index))\n"
   ]
  },
  {
   "cell_type": "code",
   "execution_count": 15,
   "id": "ab7965bc",
   "metadata": {
    "execution": {
     "iopub.execute_input": "2025-06-27T09:39:55.015378Z",
     "iopub.status.busy": "2025-06-27T09:39:55.015025Z",
     "iopub.status.idle": "2025-06-27T09:39:57.290474Z",
     "shell.execute_reply": "2025-06-27T09:39:57.289453Z"
    },
    "papermill": {
     "duration": 2.287817,
     "end_time": "2025-06-27T09:39:57.292396",
     "exception": false,
     "start_time": "2025-06-27T09:39:55.004579",
     "status": "completed"
    },
    "tags": []
   },
   "outputs": [],
   "source": [
    "np.save('./' + 'data_train.npy', data_train)\n",
    "np.save('./' + 'data_train_FGS.npy', data_train_FGS)"
   ]
  },
  {
   "cell_type": "markdown",
   "id": "c864ffc3",
   "metadata": {
    "papermill": {
     "duration": 0.009239,
     "end_time": "2025-06-27T09:39:57.311683",
     "exception": false,
     "start_time": "2025-06-27T09:39:57.302444",
     "status": "completed"
    },
    "tags": []
   },
   "source": [
    "# Plots"
   ]
  },
  {
   "cell_type": "markdown",
   "id": "8092785d",
   "metadata": {
    "papermill": {
     "duration": 0.009355,
     "end_time": "2025-06-27T09:39:57.330527",
     "exception": false,
     "start_time": "2025-06-27T09:39:57.321172",
     "status": "completed"
    },
    "tags": []
   },
   "source": [
    "Let us checks that everything went well during the data import. "
   ]
  },
  {
   "cell_type": "code",
   "execution_count": 16,
   "id": "6ebf59d5",
   "metadata": {
    "execution": {
     "iopub.execute_input": "2025-06-27T09:39:57.352119Z",
     "iopub.status.busy": "2025-06-27T09:39:57.351784Z",
     "iopub.status.idle": "2025-06-27T09:39:57.358718Z",
     "shell.execute_reply": "2025-06-27T09:39:57.357008Z"
    },
    "papermill": {
     "duration": 0.019841,
     "end_time": "2025-06-27T09:39:57.360591",
     "exception": false,
     "start_time": "2025-06-27T09:39:57.340750",
     "status": "completed"
    },
    "tags": []
   },
   "outputs": [
    {
     "name": "stdout",
     "output_type": "stream",
     "text": [
      "Shape of the training datasset: \t\n",
      "\n",
      " For AIRS-CH0: (62, 187, 282, 32)\n",
      "\n",
      " For FGS1: (62, 187, 32, 32)\n"
     ]
    }
   ],
   "source": [
    "import matplotlib.pyplot as plt \n",
    "\n",
    "print('Shape of the training datasset: \\t')\n",
    "print('\\n For AIRS-CH0:', data_train.shape)\n",
    "print('\\n For FGS1:', data_train_FGS.shape)\n",
    "\n"
   ]
  },
  {
   "cell_type": "markdown",
   "id": "28ab89e3",
   "metadata": {
    "papermill": {
     "duration": 0.009278,
     "end_time": "2025-06-27T09:39:57.379711",
     "exception": false,
     "start_time": "2025-06-27T09:39:57.370433",
     "status": "completed"
    },
    "tags": []
   },
   "source": [
    "Plot of some images: "
   ]
  },
  {
   "cell_type": "code",
   "execution_count": 17,
   "id": "1d2bffc8",
   "metadata": {
    "execution": {
     "iopub.execute_input": "2025-06-27T09:39:57.400513Z",
     "iopub.status.busy": "2025-06-27T09:39:57.400125Z",
     "iopub.status.idle": "2025-06-27T09:39:57.755768Z",
     "shell.execute_reply": "2025-06-27T09:39:57.754398Z"
    },
    "papermill": {
     "duration": 0.368618,
     "end_time": "2025-06-27T09:39:57.757843",
     "exception": false,
     "start_time": "2025-06-27T09:39:57.389225",
     "status": "completed"
    },
    "tags": []
   },
   "outputs": [
    {
     "data": {
      "text/plain": [
       "<matplotlib.image.AxesImage at 0x780b611def50>"
      ]
     },
     "execution_count": 17,
     "metadata": {},
     "output_type": "execute_result"
    },
    {
     "data": {
      "image/png": "[encoded data removed]",
      "text/plain": [
       "<Figure size 640x480 with 1 Axes>"
      ]
     },
     "metadata": {},
     "output_type": "display_data"
    }
   ],
   "source": [
    "plt.imshow(data_train_FGS[-1,50,:,:].T, aspect = 'auto')"
   ]
  },
  {
   "cell_type": "markdown",
   "id": "8a93517a",
   "metadata": {
    "papermill": {
     "duration": 0.012084,
     "end_time": "2025-06-27T09:39:57.782846",
     "exception": false,
     "start_time": "2025-06-27T09:39:57.770762",
     "status": "completed"
    },
    "tags": []
   },
   "source": [
    "Plot of some light-curves: "
   ]
  },
  {
   "cell_type": "code",
   "execution_count": 18,
   "id": "dec22a3e",
   "metadata": {
    "execution": {
     "iopub.execute_input": "2025-06-27T09:39:57.816032Z",
     "iopub.status.busy": "2025-06-27T09:39:57.815132Z",
     "iopub.status.idle": "2025-06-27T09:39:58.257853Z",
     "shell.execute_reply": "2025-06-27T09:39:58.256760Z"
    },
    "papermill": {
     "duration": 0.468468,
     "end_time": "2025-06-27T09:39:58.262550",
     "exception": false,
     "start_time": "2025-06-27T09:39:57.794082",
     "status": "completed"
    },
    "tags": []
   },
   "outputs": [
    {
     "data": {
      "text/plain": [
       "Text(0, 0.5, 'Normalized flux in the frame')"
      ]
     },
     "execution_count": 18,
     "metadata": {},
     "output_type": "execute_result"
    },
    {
     "data": {
      "image/png": "[encoded data removed]",
      "text/plain": [
       "<Figure size 640x480 with 1 Axes>"
      ]
     },
     "metadata": {},
     "output_type": "display_data"
    }
   ],
   "source": [
    "\n",
    "for i in range(len(data_train)) : \n",
    "    light_curve = data_train[i,:,:,:].sum(axis=(1,2))\n",
    "    plt.plot(light_curve/light_curve.mean(), '-', alpha=0.3)\n",
    "\n",
    "plt.xlabel('Time (frame index)')\n",
    "plt.ylabel('Normalized flux in the frame')"
   ]
  },
  {
   "cell_type": "code",
   "execution_count": null,
   "id": "0fdb5159",
   "metadata": {
    "papermill": {
     "duration": 0.014081,
     "end_time": "2025-06-27T09:39:58.290806",
     "exception": false,
     "start_time": "2025-06-27T09:39:58.276725",
     "status": "completed"
    },
    "tags": []
   },
   "outputs": [],
   "source": []
  }
 ],
 "metadata": {
  "kaggle": {
   "accelerator": "none",
   "dataSources": [
    {
     "databundleVersionId": 12846694,
     "sourceId": 101849,
     "sourceType": "competition"
    }
   ],
   "dockerImageVersionId": 31040,
   "isGpuEnabled": false,
   "isInternetEnabled": true,
   "language": "python",
   "sourceType": "notebook"
  },
  "kernelspec": {
   "display_name": "Python 3",
   "language": "python",
   "name": "python3"
  },
  "language_info": {
   "codemirror_mode": {
    "name": "ipython",
    "version": 3
   },
   "file_extension": ".py",
   "mimetype": "text/x-python",
   "name": "python",
   "nbconvert_exporter": "python",
   "pygments_lexer": "ipython3",
   "version": "3.11.11"
  },
  "papermill": {
   "default_parameters": {},
   "duration": 1137.497235,
   "end_time": "2025-06-27T09:39:59.334518",
   "environment_variables": {},
   "exception": null,
   "input_path": "__notebook__.ipynb",
   "output_path": "__notebook__.ipynb",
   "parameters": {},
   "start_time": "2025-06-27T09:21:01.837283",
   "version": "2.5.0"
  }
 },
 "nbformat": 4,
 "nbformat_minor": 5
}
